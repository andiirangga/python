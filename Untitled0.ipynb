{
  "nbformat": 4,
  "nbformat_minor": 0,
  "metadata": {
    "colab": {
      "name": "Untitled0.ipynb",
      "provenance": [],
      "authorship_tag": "ABX9TyOWT0G7BZuyoUves4FLcJM+",
      "include_colab_link": true
    },
    "kernelspec": {
      "name": "python3",
      "display_name": "Python 3"
    }
  },
  "cells": [
    {
      "cell_type": "markdown",
      "metadata": {
        "id": "view-in-github",
        "colab_type": "text"
      },
      "source": [
        "<a href=\"https://colab.research.google.com/github/andiirangga/python/blob/main/Untitled0.ipynb\" target=\"_parent\"><img src=\"https://colab.research.google.com/assets/colab-badge.svg\" alt=\"Open In Colab\"/></a>"
      ]
    },
    {
      "cell_type": "code",
      "metadata": {
        "id": "QZNHanHjcwYu",
        "colab": {
          "base_uri": "https://localhost:8080/"
        },
        "outputId": "2d9096be-71f2-4b0e-9e9b-0a3115d0b2bc"
      },
      "source": [
        "cd /content/drive/MyDrive/Colab Notebooks"
      ],
      "execution_count": 8,
      "outputs": [
        {
          "output_type": "stream",
          "text": [
            "/content/drive/MyDrive/Colab Notebooks\n"
          ],
          "name": "stdout"
        }
      ]
    },
    {
      "cell_type": "code",
      "metadata": {
        "colab": {
          "base_uri": "https://localhost:8080/"
        },
        "id": "bYHXd08xgKYh",
        "outputId": "a9bfc785-ebc0-4d71-f9d1-eee6847a7065"
      },
      "source": [
        "ls"
      ],
      "execution_count": 9,
      "outputs": [
        {
          "output_type": "stream",
          "text": [
            "\u001b[0m\u001b[01;34mandirangga\u001b[0m/  Untitled0.ipynb\n"
          ],
          "name": "stdout"
        }
      ]
    },
    {
      "cell_type": "code",
      "metadata": {
        "id": "eunVNIMCgNMy"
      },
      "source": [
        "# import the necessary packages\n",
        "from keras.models import Sequential\n",
        "from keras.layers.convolutional import Conv2D\n",
        "from keras.layers.convolutional import MaxPooling2D\n",
        "from keras.layers.core import Activation\n",
        "from keras.layers.core import Flatten\n",
        "from keras.layers.core import Dense\n",
        "from keras.optimizers import Adam\n",
        "from sklearn.preprocessing import LabelBinarizer\n",
        "from sklearn.model_selection import train_test_split\n",
        "from sklearn.metrics import classification_report\n",
        "from PIL import Image\n",
        "from imutils import paths\n",
        "import numpy as np\n",
        "import os"
      ],
      "execution_count": 10,
      "outputs": []
    },
    {
      "cell_type": "code",
      "metadata": {
        "colab": {
          "base_uri": "https://localhost:8080/"
        },
        "id": "hPuEygF2gQip",
        "outputId": "fbd778e8-f2d7-490e-b9fd-dc0b0d60a291"
      },
      "source": [
        "# grab all image paths in the input dataset directory, then initialize\n",
        "# our list of images and corresponding class labels\n",
        "print(\"[INFO] loading images...\")\n",
        "imagePaths = paths.list_images(\"andirangga\")\n",
        "data = []\n",
        "labels = []"
      ],
      "execution_count": 11,
      "outputs": [
        {
          "output_type": "stream",
          "text": [
            "[INFO] loading images...\n"
          ],
          "name": "stdout"
        }
      ]
    },
    {
      "cell_type": "code",
      "metadata": {
        "id": "yWnyzYPhgUdk"
      },
      "source": [
        "# loop over our input images\n",
        "for imagePath in imagePaths:\n",
        "\t# load the input image from disk, resize it to 32x32 pixels, scale\n",
        "\t# the pixel intensities to the range [0, 1], and then update our\n",
        "\t# images list\n",
        "  image = Image.open(imagePath)\n",
        "  image = np.array(image.resize((32, 32))) / 255.0\n",
        "  data.append(image)\n",
        "\n",
        "\t# extract the class label from the file path and update the\n",
        "\t# labels list\n",
        "  label = imagePath.split(os.path.sep)[-2]\n",
        "  labels.append(label)"
      ],
      "execution_count": 12,
      "outputs": []
    },
    {
      "cell_type": "code",
      "metadata": {
        "colab": {
          "base_uri": "https://localhost:8080/"
        },
        "id": "y-hFdYV1gnJt",
        "outputId": "93cc9901-8267-4b88-a4c5-ce4118ffbbdf"
      },
      "source": [
        "print(labels)"
      ],
      "execution_count": 13,
      "outputs": [
        {
          "output_type": "stream",
          "text": [
            "['forest', 'forest', 'forest', 'forest', 'forest', 'forest', 'forest', 'forest', 'forest', 'forest', 'forest', 'forest', 'forest', 'forest', 'forest', 'forest', 'forest', 'forest', 'forest', 'forest', 'forest', 'forest', 'forest', 'forest', 'forest', 'forest', 'forest', 'forest', 'forest', 'forest', 'forest', 'forest', 'forest', 'forest', 'forest', 'forest', 'forest', 'forest', 'forest', 'forest', 'forest', 'forest', 'forest', 'forest', 'forest', 'forest', 'forest', 'forest', 'forest', 'forest', 'forest', 'forest', 'forest', 'forest', 'forest', 'forest', 'forest', 'forest', 'forest', 'forest', 'forest', 'forest', 'forest', 'forest', 'forest', 'forest', 'forest', 'forest', 'forest', 'forest', 'forest', 'forest', 'forest', 'forest', 'forest', 'forest', 'forest', 'forest', 'forest', 'forest', 'forest', 'forest', 'forest', 'forest', 'forest', 'forest', 'forest', 'forest', 'forest', 'forest', 'forest', 'forest', 'forest', 'forest', 'forest', 'forest', 'forest', 'forest', 'forest', 'forest', 'forest', 'forest', 'forest', 'forest', 'forest', 'forest', 'forest', 'forest', 'forest', 'forest', 'forest', 'forest', 'forest', 'forest', 'forest', 'forest', 'forest', 'forest', 'forest', 'forest', 'forest', 'forest', 'forest', 'forest', 'forest', 'forest', 'forest', 'forest', 'forest', 'forest', 'forest', 'forest', 'forest', 'forest', 'forest', 'forest', 'forest', 'forest', 'forest', 'forest', 'forest', 'forest', 'forest', 'forest', 'forest', 'forest', 'forest', 'forest', 'forest', 'forest', 'forest', 'forest', 'forest', 'forest', 'forest', 'forest', 'forest', 'forest', 'forest', 'forest', 'forest', 'forest', 'forest', 'forest', 'forest', 'forest', 'forest', 'forest', 'forest', 'forest', 'forest', 'forest', 'forest', 'forest', 'forest', 'forest', 'forest', 'forest', 'forest', 'forest', 'forest', 'forest', 'forest', 'forest', 'forest', 'forest', 'forest', 'forest', 'forest', 'forest', 'forest', 'forest', 'forest', 'forest', 'forest', 'forest', 'forest', 'forest', 'forest', 'forest', 'forest', 'forest', 'forest', 'forest', 'forest', 'forest', 'forest', 'forest', 'forest', 'forest', 'forest', 'forest', 'forest', 'forest', 'forest', 'forest', 'forest', 'forest', 'forest', 'forest', 'forest', 'forest', 'forest', 'forest', 'forest', 'forest', 'forest', 'forest', 'forest', 'forest', 'forest', 'forest', 'forest', 'forest', 'forest', 'forest', 'forest', 'forest', 'forest', 'forest', 'forest', 'forest', 'forest', 'forest', 'forest', 'forest', 'forest', 'forest', 'forest', 'forest', 'forest', 'forest', 'forest', 'forest', 'forest', 'forest', 'forest', 'forest', 'forest', 'forest', 'forest', 'forest', 'forest', 'forest', 'forest', 'forest', 'forest', 'forest', 'forest', 'forest', 'forest', 'forest', 'forest', 'forest', 'forest', 'forest', 'forest', 'forest', 'forest', 'forest', 'forest', 'forest', 'forest', 'forest', 'forest', 'forest', 'forest', 'forest', 'forest', 'forest', 'forest', 'forest', 'forest', 'forest', 'forest', 'forest', 'forest', 'forest', 'forest', 'forest', 'forest', 'forest', 'forest', 'forest', 'forest', 'forest', 'forest', 'forest', 'forest', 'forest', 'forest', 'forest', 'forest', 'forest', 'forest', 'forest', 'forest', 'forest', 'forest', 'forest', 'forest', 'forest', 'forest', 'forest', 'forest', 'forest', 'forest', 'forest', 'coast', 'coast', 'coast', 'coast', 'coast', 'coast', 'coast', 'coast', 'coast', 'coast', 'coast', 'coast', 'coast', 'coast', 'coast', 'coast', 'coast', 'coast', 'coast', 'coast', 'coast', 'coast', 'coast', 'coast', 'coast', 'coast', 'coast', 'coast', 'coast', 'coast', 'coast', 'coast', 'coast', 'coast', 'coast', 'coast', 'coast', 'coast', 'coast', 'coast', 'coast', 'coast', 'coast', 'coast', 'coast', 'coast', 'coast', 'coast', 'coast', 'coast', 'coast', 'coast', 'coast', 'coast', 'coast', 'coast', 'coast', 'coast', 'coast', 'coast', 'coast', 'coast', 'coast', 'coast', 'coast', 'coast', 'coast', 'coast', 'coast', 'coast', 'coast', 'coast', 'coast', 'coast', 'coast', 'coast', 'coast', 'coast', 'coast', 'coast', 'coast', 'coast', 'coast', 'coast', 'coast', 'coast', 'coast', 'coast', 'coast', 'coast', 'coast', 'coast', 'coast', 'coast', 'coast', 'coast', 'coast', 'coast', 'coast', 'coast', 'coast', 'coast', 'coast', 'coast', 'coast', 'coast', 'coast', 'coast', 'coast', 'coast', 'coast', 'coast', 'coast', 'coast', 'coast', 'coast', 'coast', 'coast', 'coast', 'coast', 'coast', 'coast', 'coast', 'coast', 'coast', 'coast', 'coast', 'coast', 'coast', 'coast', 'coast', 'coast', 'coast', 'coast', 'coast', 'coast', 'coast', 'coast', 'coast', 'coast', 'coast', 'coast', 'coast', 'coast', 'coast', 'coast', 'coast', 'coast', 'coast', 'coast', 'coast', 'coast', 'coast', 'coast', 'coast', 'coast', 'coast', 'coast', 'coast', 'coast', 'coast', 'coast', 'coast', 'coast', 'coast', 'coast', 'coast', 'coast', 'coast', 'coast', 'coast', 'coast', 'coast', 'coast', 'coast', 'coast', 'coast', 'coast', 'coast', 'coast', 'coast', 'coast', 'coast', 'coast', 'coast', 'coast', 'coast', 'coast', 'coast', 'coast', 'coast', 'coast', 'coast', 'coast', 'coast', 'coast', 'coast', 'coast', 'coast', 'coast', 'coast', 'coast', 'coast', 'coast', 'coast', 'coast', 'coast', 'coast', 'coast', 'coast', 'coast', 'coast', 'coast', 'coast', 'coast', 'coast', 'coast', 'coast', 'coast', 'coast', 'coast', 'coast', 'coast', 'coast', 'coast', 'coast', 'coast', 'coast', 'coast', 'coast', 'coast', 'coast', 'coast', 'coast', 'coast', 'coast', 'coast', 'coast', 'coast', 'coast', 'coast', 'coast', 'coast', 'coast', 'coast', 'coast', 'coast', 'coast', 'coast', 'coast', 'coast', 'coast', 'coast', 'coast', 'coast', 'coast', 'coast', 'coast', 'coast', 'coast', 'coast', 'coast', 'coast', 'coast', 'coast', 'coast', 'coast', 'coast', 'coast', 'coast', 'coast', 'coast', 'coast', 'coast', 'coast', 'coast', 'coast', 'coast', 'coast', 'coast', 'coast', 'coast', 'coast', 'coast', 'coast', 'coast', 'coast', 'coast', 'coast', 'coast', 'coast', 'coast', 'coast', 'coast', 'coast', 'coast', 'coast', 'coast', 'coast', 'coast', 'coast', 'coast', 'coast', 'coast', 'coast', 'coast', 'coast', 'coast', 'coast', 'coast', 'coast', 'coast', 'coast', 'coast', 'coast', 'coast', 'coast', 'coast', 'coast', 'coast', 'coast', 'coast', 'coast', 'coast', 'coast', 'coast', 'coast', 'coast', 'coast', 'coast', 'coast', 'coast', 'coast', 'coast', 'coast', 'coast', 'coast', 'coast', 'coast', 'coast', 'coast', 'coast', 'coast', 'coast', 'coast', 'coast', 'coast', 'coast', 'coast', 'coast', 'coast', 'coast', 'coast', 'coast', 'coast', 'coast', 'coast', 'coast', 'coast', 'coast', 'highway', 'highway', 'highway', 'highway', 'highway', 'highway', 'highway', 'highway', 'highway', 'highway', 'highway', 'highway', 'highway', 'highway', 'highway', 'highway', 'highway', 'highway', 'highway', 'highway', 'highway', 'highway', 'highway', 'highway', 'highway', 'highway', 'highway', 'highway', 'highway', 'highway', 'highway', 'highway', 'highway', 'highway', 'highway', 'highway', 'highway', 'highway', 'highway', 'highway', 'highway', 'highway', 'highway', 'highway', 'highway', 'highway', 'highway', 'highway', 'highway', 'highway', 'highway', 'highway', 'highway', 'highway', 'highway', 'highway', 'highway', 'highway', 'highway', 'highway', 'highway', 'highway', 'highway', 'highway', 'highway', 'highway', 'highway', 'highway', 'highway', 'highway', 'highway', 'highway', 'highway', 'highway', 'highway', 'highway', 'highway', 'highway', 'highway', 'highway', 'highway', 'highway', 'highway', 'highway', 'highway', 'highway', 'highway', 'highway', 'highway', 'highway', 'highway', 'highway', 'highway', 'highway', 'highway', 'highway', 'highway', 'highway', 'highway', 'highway', 'highway', 'highway', 'highway', 'highway', 'highway', 'highway', 'highway', 'highway', 'highway', 'highway', 'highway', 'highway', 'highway', 'highway', 'highway', 'highway', 'highway', 'highway', 'highway', 'highway', 'highway', 'highway', 'highway', 'highway', 'highway', 'highway', 'highway', 'highway', 'highway', 'highway', 'highway', 'highway', 'highway', 'highway', 'highway', 'highway', 'highway', 'highway', 'highway', 'highway', 'highway', 'highway', 'highway', 'highway', 'highway', 'highway', 'highway', 'highway', 'highway', 'highway', 'highway', 'highway', 'highway', 'highway', 'highway', 'highway', 'highway', 'highway', 'highway', 'highway', 'highway', 'highway', 'highway', 'highway', 'highway', 'highway', 'highway', 'highway', 'highway', 'highway', 'highway', 'highway', 'highway', 'highway', 'highway', 'highway', 'highway', 'highway', 'highway', 'highway', 'highway', 'highway', 'highway', 'highway', 'highway', 'highway', 'highway', 'highway', 'highway', 'highway', 'highway', 'highway', 'highway', 'highway', 'highway', 'highway', 'highway', 'highway', 'highway', 'highway', 'highway', 'highway', 'highway', 'highway', 'highway', 'highway', 'highway', 'highway', 'highway', 'highway', 'highway', 'highway', 'highway', 'highway', 'highway', 'highway', 'highway', 'highway', 'highway', 'highway', 'highway', 'highway', 'highway', 'highway', 'highway', 'highway', 'highway', 'highway', 'highway', 'highway', 'highway', 'highway', 'highway', 'highway', 'highway', 'highway', 'highway', 'highway', 'highway', 'highway', 'highway', 'highway', 'highway', 'highway', 'highway', 'highway', 'highway', 'highway', 'highway', 'highway', 'highway', 'highway', 'highway', 'highway', 'highway', 'highway', 'highway', 'highway', 'highway', 'highway']\n"
          ],
          "name": "stdout"
        }
      ]
    },
    {
      "cell_type": "code",
      "metadata": {
        "id": "VhB-jh4fid-V"
      },
      "source": [
        "# encode the labels, converting them from strings to integers\n",
        "lb = LabelBinarizer()\n",
        "labels = lb.fit_transform(labels)"
      ],
      "execution_count": 14,
      "outputs": []
    },
    {
      "cell_type": "code",
      "metadata": {
        "colab": {
          "base_uri": "https://localhost:8080/"
        },
        "id": "TvWEVk68in4h",
        "outputId": "b8f7dd5c-1a03-44e8-80d3-3aeef20b4c9c"
      },
      "source": [
        "print(labels)"
      ],
      "execution_count": 15,
      "outputs": [
        {
          "output_type": "stream",
          "text": [
            "[[0 1 0]\n",
            " [0 1 0]\n",
            " [0 1 0]\n",
            " ...\n",
            " [0 0 1]\n",
            " [0 0 1]\n",
            " [0 0 1]]\n"
          ],
          "name": "stdout"
        }
      ]
    },
    {
      "cell_type": "code",
      "metadata": {
        "colab": {
          "base_uri": "https://localhost:8080/"
        },
        "id": "lifd1vDwiqrH",
        "outputId": "bee27e05-e5cd-4066-d011-30f91588ffd4"
      },
      "source": [
        "\n",
        "# perform a training and testing split, using 75% of the data for\n",
        "# training and 25% for evaluation\n",
        "(trainX, testX, trainY, testY) = train_test_split(np.array(data),\tnp.array(labels), test_size=0.25)\n",
        "print(trainX.shape)\n",
        "print(testX.shape)"
      ],
      "execution_count": 16,
      "outputs": [
        {
          "output_type": "stream",
          "text": [
            "(711, 32, 32, 3)\n",
            "(237, 32, 32, 3)\n"
          ],
          "name": "stdout"
        }
      ]
    },
    {
      "cell_type": "code",
      "metadata": {
        "id": "XT8HjGu3isqG"
      },
      "source": [
        "from keras.models import Sequential\n",
        "from keras.layers.core import Flatten\n",
        "from keras.layers.core import Dense\n",
        "\n",
        "model = Sequential(\n",
        "    [\n",
        "        Flatten(input_shape=(32*32*3,)),\n",
        "        Dense(80, activation=\"relu\", name=\"layer1\"),\n",
        "        Dense(85, activation=\"relu\", name=\"layer2\"),\n",
        "        Dense(90, activation=\"relu\", name=\"layer3\"),\n",
        "        Dense(95, activation=\"relu\", name=\"layer4\"),\n",
        "        Dense(100, activation=\"relu\", name=\"layer5\"),\n",
        "        Dense(105, activation=\"relu\", name=\"layer6\"),\n",
        "        Dense(3, activation = \"softmax\", name=\"layer7\"),\n",
        "    ]\n",
        ")"
      ],
      "execution_count": 17,
      "outputs": []
    },
    {
      "cell_type": "code",
      "metadata": {
        "colab": {
          "base_uri": "https://localhost:8080/"
        },
        "id": "ypumNAuPi4Uc",
        "outputId": "e3c14d80-6232-4bf1-b022-3a12c6b806ad"
      },
      "source": [
        "model.summary()"
      ],
      "execution_count": 18,
      "outputs": [
        {
          "output_type": "stream",
          "text": [
            "Model: \"sequential\"\n",
            "_________________________________________________________________\n",
            "Layer (type)                 Output Shape              Param #   \n",
            "=================================================================\n",
            "flatten (Flatten)            (None, 3072)              0         \n",
            "_________________________________________________________________\n",
            "layer1 (Dense)               (None, 80)                245840    \n",
            "_________________________________________________________________\n",
            "layer2 (Dense)               (None, 85)                6885      \n",
            "_________________________________________________________________\n",
            "layer3 (Dense)               (None, 90)                7740      \n",
            "_________________________________________________________________\n",
            "layer4 (Dense)               (None, 95)                8645      \n",
            "_________________________________________________________________\n",
            "layer5 (Dense)               (None, 100)               9600      \n",
            "_________________________________________________________________\n",
            "layer6 (Dense)               (None, 105)               10605     \n",
            "_________________________________________________________________\n",
            "layer7 (Dense)               (None, 3)                 318       \n",
            "=================================================================\n",
            "Total params: 289,633\n",
            "Trainable params: 289,633\n",
            "Non-trainable params: 0\n",
            "_________________________________________________________________\n"
          ],
          "name": "stdout"
        }
      ]
    },
    {
      "cell_type": "code",
      "metadata": {
        "colab": {
          "base_uri": "https://localhost:8080/"
        },
        "id": "qFwpaG84i-P1",
        "outputId": "41e18be0-0a88-4574-de92-814200ed6303"
      },
      "source": [
        "# train the model using the Adam optimizer\n",
        "print(\"[INFO] training network...\")\n",
        "opt = Adam(lr=1e-3, decay=1e-3 / 50)\n",
        "model.compile(loss=\"categorical_crossentropy\", optimizer=opt,\n",
        "\tmetrics=[\"accuracy\"])\n",
        "H = model.fit(trainX, trainY, validation_data=(testX, testY), epochs=35, batch_size=45,)"
      ],
      "execution_count": 19,
      "outputs": [
        {
          "output_type": "stream",
          "text": [
            "[INFO] training network...\n",
            "Epoch 1/35\n",
            "WARNING:tensorflow:Model was constructed with shape (None, 3072) for input Tensor(\"flatten_input:0\", shape=(None, 3072), dtype=float32), but it was called on an input with incompatible shape (None, 32, 32, 3).\n",
            "WARNING:tensorflow:Model was constructed with shape (None, 3072) for input Tensor(\"flatten_input:0\", shape=(None, 3072), dtype=float32), but it was called on an input with incompatible shape (None, 32, 32, 3).\n",
            "11/16 [===================>..........] - ETA: 0s - loss: 1.0667 - accuracy: 0.3980WARNING:tensorflow:Model was constructed with shape (None, 3072) for input Tensor(\"flatten_input:0\", shape=(None, 3072), dtype=float32), but it was called on an input with incompatible shape (None, 32, 32, 3).\n",
            "16/16 [==============================] - 0s 19ms/step - loss: 1.0381 - accuracy: 0.4430 - val_loss: 0.9273 - val_accuracy: 0.5907\n",
            "Epoch 2/35\n",
            "16/16 [==============================] - 0s 7ms/step - loss: 0.9089 - accuracy: 0.5963 - val_loss: 0.8934 - val_accuracy: 0.5232\n",
            "Epoch 3/35\n",
            "16/16 [==============================] - 0s 7ms/step - loss: 0.7311 - accuracy: 0.7046 - val_loss: 0.6274 - val_accuracy: 0.7342\n",
            "Epoch 4/35\n",
            "16/16 [==============================] - 0s 8ms/step - loss: 0.7586 - accuracy: 0.6906 - val_loss: 0.8074 - val_accuracy: 0.6076\n",
            "Epoch 5/35\n",
            "16/16 [==============================] - 0s 6ms/step - loss: 0.6607 - accuracy: 0.7384 - val_loss: 0.6221 - val_accuracy: 0.7679\n",
            "Epoch 6/35\n",
            "16/16 [==============================] - 0s 7ms/step - loss: 0.5663 - accuracy: 0.7848 - val_loss: 0.6446 - val_accuracy: 0.7511\n",
            "Epoch 7/35\n",
            "16/16 [==============================] - 0s 7ms/step - loss: 0.5235 - accuracy: 0.7961 - val_loss: 0.5291 - val_accuracy: 0.8143\n",
            "Epoch 8/35\n",
            "16/16 [==============================] - 0s 6ms/step - loss: 0.5207 - accuracy: 0.8087 - val_loss: 0.7642 - val_accuracy: 0.6962\n",
            "Epoch 9/35\n",
            "16/16 [==============================] - 0s 7ms/step - loss: 0.5662 - accuracy: 0.7764 - val_loss: 0.5541 - val_accuracy: 0.7975\n",
            "Epoch 10/35\n",
            "16/16 [==============================] - 0s 7ms/step - loss: 0.4550 - accuracy: 0.8354 - val_loss: 0.5551 - val_accuracy: 0.8228\n",
            "Epoch 11/35\n",
            "16/16 [==============================] - 0s 7ms/step - loss: 0.4371 - accuracy: 0.8411 - val_loss: 0.5465 - val_accuracy: 0.8017\n",
            "Epoch 12/35\n",
            "16/16 [==============================] - 0s 7ms/step - loss: 0.4533 - accuracy: 0.8340 - val_loss: 0.6784 - val_accuracy: 0.7215\n",
            "Epoch 13/35\n",
            "16/16 [==============================] - 0s 7ms/step - loss: 0.4452 - accuracy: 0.8383 - val_loss: 0.5020 - val_accuracy: 0.8312\n",
            "Epoch 14/35\n",
            "16/16 [==============================] - 0s 8ms/step - loss: 0.4224 - accuracy: 0.8439 - val_loss: 0.6099 - val_accuracy: 0.7932\n",
            "Epoch 15/35\n",
            "16/16 [==============================] - 0s 7ms/step - loss: 0.4876 - accuracy: 0.8017 - val_loss: 0.5100 - val_accuracy: 0.8481\n",
            "Epoch 16/35\n",
            "16/16 [==============================] - 0s 6ms/step - loss: 0.4128 - accuracy: 0.8425 - val_loss: 0.5500 - val_accuracy: 0.8101\n",
            "Epoch 17/35\n",
            "16/16 [==============================] - 0s 7ms/step - loss: 0.3477 - accuracy: 0.8734 - val_loss: 0.5275 - val_accuracy: 0.8186\n",
            "Epoch 18/35\n",
            "16/16 [==============================] - 0s 6ms/step - loss: 0.3666 - accuracy: 0.8692 - val_loss: 0.5388 - val_accuracy: 0.8481\n",
            "Epoch 19/35\n",
            "16/16 [==============================] - 0s 6ms/step - loss: 0.3536 - accuracy: 0.8748 - val_loss: 0.5290 - val_accuracy: 0.8565\n",
            "Epoch 20/35\n",
            "16/16 [==============================] - 0s 6ms/step - loss: 0.3009 - accuracy: 0.8875 - val_loss: 0.7144 - val_accuracy: 0.7975\n",
            "Epoch 21/35\n",
            "16/16 [==============================] - 0s 6ms/step - loss: 0.3616 - accuracy: 0.8509 - val_loss: 0.5140 - val_accuracy: 0.8228\n",
            "Epoch 22/35\n",
            "16/16 [==============================] - 0s 7ms/step - loss: 0.2983 - accuracy: 0.8847 - val_loss: 0.5348 - val_accuracy: 0.8228\n",
            "Epoch 23/35\n",
            "16/16 [==============================] - 0s 6ms/step - loss: 0.3157 - accuracy: 0.8706 - val_loss: 0.5242 - val_accuracy: 0.8354\n",
            "Epoch 24/35\n",
            "16/16 [==============================] - 0s 6ms/step - loss: 0.2618 - accuracy: 0.9044 - val_loss: 0.5757 - val_accuracy: 0.8312\n",
            "Epoch 25/35\n",
            "16/16 [==============================] - 0s 6ms/step - loss: 0.2463 - accuracy: 0.9142 - val_loss: 0.6230 - val_accuracy: 0.8270\n",
            "Epoch 26/35\n",
            "16/16 [==============================] - 0s 6ms/step - loss: 0.2529 - accuracy: 0.8987 - val_loss: 0.5914 - val_accuracy: 0.8481\n",
            "Epoch 27/35\n",
            "16/16 [==============================] - 0s 6ms/step - loss: 0.2037 - accuracy: 0.9226 - val_loss: 0.6460 - val_accuracy: 0.8143\n",
            "Epoch 28/35\n",
            "16/16 [==============================] - 0s 6ms/step - loss: 0.2964 - accuracy: 0.8833 - val_loss: 0.8161 - val_accuracy: 0.7511\n",
            "Epoch 29/35\n",
            "16/16 [==============================] - 0s 6ms/step - loss: 0.2702 - accuracy: 0.8931 - val_loss: 0.5722 - val_accuracy: 0.8523\n",
            "Epoch 30/35\n",
            "16/16 [==============================] - 0s 7ms/step - loss: 0.2211 - accuracy: 0.9170 - val_loss: 0.6776 - val_accuracy: 0.8143\n",
            "Epoch 31/35\n",
            "16/16 [==============================] - 0s 6ms/step - loss: 0.2974 - accuracy: 0.8917 - val_loss: 0.7884 - val_accuracy: 0.7595\n",
            "Epoch 32/35\n",
            "16/16 [==============================] - 0s 7ms/step - loss: 0.2430 - accuracy: 0.9058 - val_loss: 0.6255 - val_accuracy: 0.8397\n",
            "Epoch 33/35\n",
            "16/16 [==============================] - 0s 6ms/step - loss: 0.2091 - accuracy: 0.9184 - val_loss: 0.6809 - val_accuracy: 0.7975\n",
            "Epoch 34/35\n",
            "16/16 [==============================] - 0s 6ms/step - loss: 0.2060 - accuracy: 0.9184 - val_loss: 0.5924 - val_accuracy: 0.8734\n",
            "Epoch 35/35\n",
            "16/16 [==============================] - 0s 6ms/step - loss: 0.1427 - accuracy: 0.9423 - val_loss: 0.6365 - val_accuracy: 0.8397\n"
          ],
          "name": "stdout"
        }
      ]
    },
    {
      "cell_type": "code",
      "metadata": {
        "colab": {
          "base_uri": "https://localhost:8080/",
          "height": 590
        },
        "id": "VO4NADrljCPe",
        "outputId": "63d7457e-5766-4e99-870b-28d802b9045f"
      },
      "source": [
        "import matplotlib.pyplot as plt\n",
        "\n",
        "print(H.history.keys())\n",
        "# summarize history for accuracy\n",
        "plt.plot(H.history['accuracy'])\n",
        "plt.plot(H.history['val_accuracy'])\n",
        "plt.title('model accuracy')\n",
        "plt.ylabel('accuracy')\n",
        "plt.xlabel('epoch')\n",
        "plt.legend(['train', 'test'], loc='upper left')\n",
        "plt.show()\n",
        "# summarize history for loss\n",
        "plt.plot(H.history['loss'])\n",
        "plt.plot(H.history['val_loss'])\n",
        "plt.title('model loss')\n",
        "plt.ylabel('loss')\n",
        "plt.xlabel('epoch')\n",
        "plt.legend(['train', 'test'], loc='upper left')\n",
        "plt.show()"
      ],
      "execution_count": 20,
      "outputs": [
        {
          "output_type": "stream",
          "text": [
            "dict_keys(['loss', 'accuracy', 'val_loss', 'val_accuracy'])\n"
          ],
          "name": "stdout"
        },
        {
          "output_type": "display_data",
          "data": {
            "image/png": "[encoded data removed]",
            "text/plain": [
              "<Figure size 432x288 with 1 Axes>"
            ]
          },
          "metadata": {
            "tags": [],
            "needs_background": "light"
          }
        },
        {
          "output_type": "display_data",
          "data": {
            "image/png": "[encoded data removed]",
            "text/plain": [
              "<Figure size 432x288 with 1 Axes>"
            ]
          },
          "metadata": {
            "tags": [],
            "needs_background": "light"
          }
        }
      ]
    },
    {
      "cell_type": "code",
      "metadata": {
        "colab": {
          "base_uri": "https://localhost:8080/"
        },
        "id": "qxk-5WwrjINN",
        "outputId": "137a41a8-eefe-4b9b-daf2-03addf786b5e"
      },
      "source": [
        "# evaluate the network\n",
        "print(\"[INFO] evaluating network...\")\n",
        "predictions = model.predict(testX, batch_size=64)\n",
        "print(classification_report(testY.argmax(axis=1),\n",
        "\tpredictions.argmax(axis=1), target_names=lb.classes_))"
      ],
      "execution_count": 21,
      "outputs": [
        {
          "output_type": "stream",
          "text": [
            "[INFO] evaluating network...\n",
            "WARNING:tensorflow:Model was constructed with shape (None, 3072) for input Tensor(\"flatten_input:0\", shape=(None, 3072), dtype=float32), but it was called on an input with incompatible shape (None, 32, 32, 3).\n",
            "              precision    recall  f1-score   support\n",
            "\n",
            "       coast       0.76      0.80      0.78        81\n",
            "      forest       0.90      0.87      0.88        92\n",
            "     highway       0.87      0.84      0.86        64\n",
            "\n",
            "    accuracy                           0.84       237\n",
            "   macro avg       0.84      0.84      0.84       237\n",
            "weighted avg       0.84      0.84      0.84       237\n",
            "\n"
          ],
          "name": "stdout"
        }
      ]
    },
    {
      "cell_type": "code",
      "metadata": {
        "id": "Dw1AaCl3jL69"
      },
      "source": [
        ""
      ],
      "execution_count": null,
      "outputs": []
    }
  ]
}