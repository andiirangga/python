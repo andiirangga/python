{
  "nbformat": 4,
  "nbformat_minor": 0,
  "metadata": {
    "colab": {
      "name": "Tugas12.ipynb",
      "provenance": [],
      "authorship_tag": "ABX9TyNfpXeMAC4hR6wNhE/gKy07",
      "include_colab_link": true
    },
    "kernelspec": {
      "name": "python3",
      "display_name": "Python 3"
    }
  },
  "cells": [
    {
      "cell_type": "markdown",
      "metadata": {
        "id": "view-in-github",
        "colab_type": "text"
      },
      "source": [
        "<a href=\"https://colab.research.google.com/github/andiirangga/python/blob/main/Tugas12.ipynb\" target=\"_parent\"><img src=\"https://colab.research.google.com/assets/colab-badge.svg\" alt=\"Open In Colab\"/></a>"
      ]
    },
    {
      "cell_type": "code",
      "metadata": {
        "id": "AT_7MB3gQVNQ"
      },
      "source": [
        "# NAME  : ANDI RANGGA FAHREZA AKBAR\r\n",
        "# NIM   : 1101208145\r\n",
        "# CLASS : TTX 44-01"
      ],
      "execution_count": 1,
      "outputs": []
    },
    {
      "cell_type": "code",
      "metadata": {
        "id": "ph8OH1alQoZi"
      },
      "source": [
        "import numpy as np"
      ],
      "execution_count": 2,
      "outputs": []
    },
    {
      "cell_type": "code",
      "metadata": {
        "id": "KgTCzhmHQtRB"
      },
      "source": [
        "NtL = lambda x: 10*np.log10(x)"
      ],
      "execution_count": 3,
      "outputs": []
    },
    {
      "cell_type": "code",
      "metadata": {
        "colab": {
          "base_uri": "https://localhost:8080/"
        },
        "id": "oB_2w4U8Q-bR",
        "outputId": "c5750f6b-4069-44cb-dd22-3b7c967a61c9"
      },
      "source": [
        "z=NtL(100)\r\n",
        "print(z)"
      ],
      "execution_count": 4,
      "outputs": [
        {
          "output_type": "stream",
          "text": [
            "20.0\n"
          ],
          "name": "stdout"
        }
      ]
    },
    {
      "cell_type": "code",
      "metadata": {
        "id": "yvYOu21kRA49"
      },
      "source": [
        "LtN = lambda x: 10**(x/10)"
      ],
      "execution_count": 5,
      "outputs": []
    },
    {
      "cell_type": "code",
      "metadata": {
        "colab": {
          "base_uri": "https://localhost:8080/"
        },
        "id": "as4QKhVsRDZH",
        "outputId": "a4d1df3b-86d4-4639-adad-882351b0690d"
      },
      "source": [
        "y=LtN(100)\r\n",
        "print(y)"
      ],
      "execution_count": 6,
      "outputs": [
        {
          "output_type": "stream",
          "text": [
            "10000000000.0\n"
          ],
          "name": "stdout"
        }
      ]
    },
    {
      "cell_type": "code",
      "metadata": {
        "colab": {
          "base_uri": "https://localhost:8080/"
        },
        "id": "O0ZAPTzqRJ-C",
        "outputId": "0ef54230-17ad-4868-cb28-8010d8980b49"
      },
      "source": [
        "# Daerah Suburban\r\n",
        "Lp = 69.55  + (26.16*np.log10(950)) - (13.83*np.log10(95)) - ((((1.1*np.log10(950))-0.7)*25) - ((1.56*np.log10(950))-0.8)) + ((44.9-(6.55*np.log10(25)))*np.log10(10)) + (-10.0852)\r\n",
        "print(Lp)"
      ],
      "execution_count": 7,
      "outputs": [
        {
          "output_type": "stream",
          "text": [
            "85.21147467521693\n"
          ],
          "name": "stdout"
        }
      ]
    },
    {
      "cell_type": "code",
      "metadata": {
        "colab": {
          "base_uri": "https://localhost:8080/"
        },
        "id": "uwHeo6XCRMp4",
        "outputId": "c9446569-ee0a-4580-bf93-6f258b882cae"
      },
      "source": [
        "# Daerah Urban\r\n",
        "Lp = 69.55  + (26.16*np.log10(950)) - (13.83*np.log10(95)) - ((((1.1*np.log10(950))-0.7)*25) - ((1.56*np.log10(950))-0.8)) + ((44.9-(6.55*np.log10(25)))*np.log10(10)) + (0)\r\n",
        "print(Lp)"
      ],
      "execution_count": 8,
      "outputs": [
        {
          "output_type": "stream",
          "text": [
            "95.29667467521693\n"
          ],
          "name": "stdout"
        }
      ]
    },
    {
      "cell_type": "code",
      "metadata": {
        "colab": {
          "base_uri": "https://localhost:8080/"
        },
        "id": "3DUiBDZjRth0",
        "outputId": "f141b7c8-a8f8-44a6-cd65-90e933f35a74"
      },
      "source": [
        "# Daerah Open\r\n",
        "Lp = 69.55  + (26.16*np.log10(950)) - (13.83*np.log10(95)) - ((((1.1*np.log10(950))-0.7)*25) - ((1.56*np.log10(950))-0.8)) + ((44.9-(6.55*np.log10(25)))*np.log10(10)) + (-28.7418)\r\n",
        "print(Lp)"
      ],
      "execution_count": 9,
      "outputs": [
        {
          "output_type": "stream",
          "text": [
            "66.55487467521694\n"
          ],
          "name": "stdout"
        }
      ]
    },
    {
      "cell_type": "code",
      "metadata": {
        "id": "SefgmViFRvgj"
      },
      "source": [
        "def ploss (d, f, cm, ht, hr):\r\n",
        "  pldb= 69.55 + (26.16*np.log10(f)) - (13.83*np.log10(ht)) - ((((1.1*np.log10(f)) - 0.7) * hr) - ((1.56*np.log10(f)) - 0.8)) + ((44.9 - (6.55*np.log10(ht)))*np.log10(d)) + cm\r\n",
        "  plnum=LtN(-pldb)\r\n",
        "  return pldb,plnum"
      ],
      "execution_count": 10,
      "outputs": []
    },
    {
      "cell_type": "code",
      "metadata": {
        "colab": {
          "base_uri": "https://localhost:8080/"
        },
        "id": "ZVbP728hRxao",
        "outputId": "6eded477-36f1-4b07-f809-2837430839b7"
      },
      "source": [
        "# Daerah Suburban\r\n",
        "pathlossdb, pathlossnum = ploss(10, 950, -10.0852, 95, 25)\r\n",
        "print(\"pathloss dalam db =\",pathlossdb,\"dB\")\r\n",
        "print(\"pathloss dalam numerik =\",pathlossnum,\"kali\")"
      ],
      "execution_count": 11,
      "outputs": [
        {
          "output_type": "stream",
          "text": [
            "pathloss dalam db = 81.41389211737683 dB\n",
            "pathloss dalam numerik = 7.221223524226068e-09 kali\n"
          ],
          "name": "stdout"
        }
      ]
    },
    {
      "cell_type": "code",
      "metadata": {
        "colab": {
          "base_uri": "https://localhost:8080/"
        },
        "id": "c9DkoeV7R29w",
        "outputId": "67402f20-3841-4a22-c559-2cfbaf89fd2f"
      },
      "source": [
        "# Daerah Urban\r\n",
        "pathlossdb, pathlossnum = ploss(10, 950, 0, 95, 25)\r\n",
        "print(\"pathloss dalam db =\",pathlossdb,\"dB\")\r\n",
        "print(\"pathloss dalam numerik =\",pathlossnum,\"kali\")"
      ],
      "execution_count": 12,
      "outputs": [
        {
          "output_type": "stream",
          "text": [
            "pathloss dalam db = 91.49909211737683 dB\n",
            "pathloss dalam numerik = 7.080937942917115e-10 kali\n"
          ],
          "name": "stdout"
        }
      ]
    },
    {
      "cell_type": "code",
      "metadata": {
        "colab": {
          "base_uri": "https://localhost:8080/"
        },
        "id": "cN9n6g70R5Vs",
        "outputId": "1f547ea4-a9f8-410d-8850-02cccbf5dabe"
      },
      "source": [
        "# Daerah Open\r\n",
        "pathlossdb, pathlossnum = ploss(10, 950, -28.7418, 95, 25)\r\n",
        "print(\"pathloss dalam db =\",pathlossdb,\"dB\")\r\n",
        "print(\"pathloss dalam numerik =\",pathlossnum,\"kali\")"
      ],
      "execution_count": 13,
      "outputs": [
        {
          "output_type": "stream",
          "text": [
            "pathloss dalam db = 62.757292117376835 dB\n",
            "pathloss dalam numerik = 5.299937989227408e-07 kali\n"
          ],
          "name": "stdout"
        }
      ]
    },
    {
      "cell_type": "code",
      "metadata": {
        "id": "akindhGsR7zz"
      },
      "source": [
        ""
      ],
      "execution_count": null,
      "outputs": []
    }
  ]
}